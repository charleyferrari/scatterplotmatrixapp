{
 "cells": [
  {
   "cell_type": "code",
   "execution_count": 30,
   "metadata": {},
   "outputs": [],
   "source": [
    "import numpy as np\n",
    "import pandas as pd\n",
    "\n",
    "import plotly.plotly as py\n",
    "import plotly.graph_objs as go"
   ]
  },
  {
   "cell_type": "code",
   "execution_count": 34,
   "metadata": {},
   "outputs": [],
   "source": [
    "dataframe = pd.DataFrame(np.random.randn(50, 26),\n",
    "                         columns=['Column ' + i\n",
    "                                  for i in ['A', 'B', 'C', 'D', 'E', 'F',\n",
    "                                            'G', 'H', 'I', 'J', 'K', 'L',\n",
    "                                            'M', 'N', 'O', 'P', 'Q', 'R',\n",
    "                                            'S', 'T', 'U', 'V', 'W', 'X',\n",
    "                                            'Y', 'Z']])"
   ]
  },
  {
   "cell_type": "code",
   "execution_count": 35,
   "metadata": {},
   "outputs": [],
   "source": [
    "dataframe['Fruit'] = np.random.choice(['Apple', 'Pear', 'Grape'], 50)"
   ]
  },
  {
   "cell_type": "code",
   "execution_count": 22,
   "metadata": {},
   "outputs": [
    {
     "data": {
      "text/plain": [
       "array([[ 0.72969926,  0.42492736,  0.4125412 ],\n",
       "       [-0.34380638,  0.72125211, -1.67462941]])"
      ]
     },
     "execution_count": 22,
     "metadata": {},
     "output_type": "execute_result"
    }
   ],
   "source": [
    "dataframe.drop('Fruit', axis=1).as_matrix()[0:2,0:3]"
   ]
  },
  {
   "cell_type": "code",
   "execution_count": 36,
   "metadata": {},
   "outputs": [
    {
     "data": {
      "text/html": [
       "<iframe id=\"igraph\" scrolling=\"no\" style=\"border:none;\" seamless=\"seamless\" src=\"https://plot.ly/~charleyferrari/3429.embed\" height=\"525px\" width=\"100%\"></iframe>"
      ],
      "text/plain": [
       "<plotly.tools.PlotlyDisplay object>"
      ]
     },
     "execution_count": 36,
     "metadata": {},
     "output_type": "execute_result"
    }
   ],
   "source": [
    "trace = go.Heatmap(\n",
    "    z = dataframe.corr().as_matrix(),\n",
    "    x = dataframe.corr().columns,\n",
    "    y = dataframe.corr().columns\n",
    ")\n",
    "\n",
    "py.iplot([trace], filename= 's-heatmap')"
   ]
  },
  {
   "cell_type": "code",
   "execution_count": 38,
   "metadata": {},
   "outputs": [
    {
     "data": {
      "text/html": [
       "<iframe id=\"igraph\" scrolling=\"no\" style=\"border:none;\" seamless=\"seamless\" src=\"https://plot.ly/~charleyferrari/3429.embed\" height=\"525px\" width=\"100%\"></iframe>"
      ],
      "text/plain": [
       "<plotly.tools.PlotlyDisplay object>"
      ]
     },
     "execution_count": 38,
     "metadata": {},
     "output_type": "execute_result"
    }
   ],
   "source": [
    "x = 'Column A'\n",
    "y = 'Column B'\n",
    "\n",
    "def create_scatter(x, y):\n",
    "    data = []\n",
    "    for fruit in ['Apple', 'Pear', 'Grape']:\n",
    "        data.append(\n",
    "            go.Scatter(\n",
    "                x = dataframe.loc[dataframe['Fruit'] == fruit, x],\n",
    "                y = dataframe.loc[dataframe['Fruit'] == fruit, y],\n",
    "                mode = 'markers',\n",
    "                name = fruit\n",
    "            )\n",
    "        )\n",
    "    return go.Figure(data = data)\n",
    "\n",
    "py.iplot(create_scatter(x, y), filename= 's-heatmap')"
   ]
  },
  {
   "cell_type": "code",
   "execution_count": null,
   "metadata": {},
   "outputs": [],
   "source": [
    "np..corrcoef(list1, list2)[0, 1]"
   ]
  }
 ],
 "metadata": {
  "kernelspec": {
   "display_name": "venv3",
   "language": "python",
   "name": "venv3"
  },
  "language_info": {
   "codemirror_mode": {
    "name": "ipython",
    "version": 3
   },
   "file_extension": ".py",
   "mimetype": "text/x-python",
   "name": "python",
   "nbconvert_exporter": "python",
   "pygments_lexer": "ipython3",
   "version": "3.6.5"
  }
 },
 "nbformat": 4,
 "nbformat_minor": 2
}
